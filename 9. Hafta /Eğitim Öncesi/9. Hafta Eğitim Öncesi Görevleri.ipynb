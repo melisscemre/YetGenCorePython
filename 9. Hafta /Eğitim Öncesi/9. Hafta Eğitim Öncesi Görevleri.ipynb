{
 "cells": [
  {
   "attachments": {},
   "cell_type": "markdown",
   "metadata": {},
   "source": [
    "# Problem 1"
   ]
  },
  {
   "cell_type": "code",
   "execution_count": null,
   "metadata": {},
   "outputs": [
    {
     "name": "stdout",
     "output_type": "stream",
     "text": [
      "Collecting numpy\n",
      "  Downloading numpy-2.2.5-cp313-cp313-macosx_14_0_arm64.whl.metadata (62 kB)\n",
      "Downloading numpy-2.2.5-cp313-cp313-macosx_14_0_arm64.whl (5.1 MB)\n",
      "\u001b[2K   \u001b[90m━━━━━━━━━━━━━━━━━━━━━━━━━━━━━━━━━━━━━━━━\u001b[0m \u001b[32m5.1/5.1 MB\u001b[0m \u001b[31m8.4 MB/s\u001b[0m eta \u001b[36m0:00:00\u001b[0ma \u001b[36m0:00:01\u001b[0m\n",
      "\u001b[?25hInstalling collected packages: numpy\n",
      "Successfully installed numpy-2.2.5\n",
      "\n",
      "\u001b[1m[\u001b[0m\u001b[34;49mnotice\u001b[0m\u001b[1;39;49m]\u001b[0m\u001b[39;49m A new release of pip is available: \u001b[0m\u001b[31;49m24.3.1\u001b[0m\u001b[39;49m -> \u001b[0m\u001b[32;49m25.1\u001b[0m\n",
      "\u001b[1m[\u001b[0m\u001b[34;49mnotice\u001b[0m\u001b[1;39;49m]\u001b[0m\u001b[39;49m To update, run: \u001b[0m\u001b[32;49mpip3 install --upgrade pip\u001b[0m\n"
     ]
    }
   ],
   "source": [
    "# 1 - numpy kütüphanesini import edin\n",
    "!pip3 install numpy"
   ]
  },
  {
   "cell_type": "code",
   "execution_count": 19,
   "metadata": {},
   "outputs": [
    {
     "name": "stdout",
     "output_type": "stream",
     "text": [
      "ilk matris: [1 7 2 9 9]\n",
      "(5,)\n",
      "yeni matris: [[1 7 2 9 9]]\n",
      "2\n"
     ]
    }
   ],
   "source": [
    "import numpy as np\n",
    "# 2 - 0 ile 10 arasında 5 sayıdan oluşan matris üretin\n",
    "matris = np.random.randint(0, 10, 5)\n",
    "print(\"ilk matris:\" , matris)\n",
    "# 3 - matris'in boyutunu öğrenin\n",
    "print(matris.shape)\n",
    "# 4 - matris'i yeniden boyutlandırın\n",
    "matris= matris.reshape(1, 5)\n",
    "print(\"yeni matris:\" ,matris)\n",
    "# 5 - matris'in boyut sayısını öğrenin\n",
    "print(matris.ndim)"
   ]
  },
  {
   "cell_type": "markdown",
   "metadata": {},
   "source": [
    "| Durum | Görünüm | .shape | .ndim |\n",
    "|-------|----------|--------|-------|\n",
    "| Orijinal | `[3 7 1 0 4]` | `(5,)` | 1 |\n",
    "| Reshape | `[[3 7 1 0 4]]` | `(1, 5)` | 2 |\n",
    "\n",
    "\n",
    "1 satır ve 5 sütun var artık \n",
    "\n"
   ]
  },
  {
   "attachments": {},
   "cell_type": "markdown",
   "metadata": {},
   "source": [
    "# Problem 2"
   ]
  },
  {
   "cell_type": "code",
   "execution_count": null,
   "metadata": {},
   "outputs": [
    {
     "name": "stdout",
     "output_type": "stream",
     "text": [
      "matris: [1 3 5 7 9]\n",
      "parça 1: [1 3 5]\n",
      "parça 2: [7 9]\n",
      "birleştirilmiş matris: [1 3 5 7 9]\n"
     ]
    }
   ],
   "source": [
    "# 1 - 0 ile 10 arasında bulunan tek sayılardan oluşan matris üretin\n",
    "matris = np.arange(1, 10, 2)\n",
    "print(\"matris:\", matris)\n",
    "# 2 - Oluşturduğunuz matrisi parçalayın\n",
    "parca1, parca2 = np.array_split(matris, 2)  #EŞİT PARÇAYA BÖLMEK İSTEMŞYORSAN!\n",
    "print(\"parça 1:\", parca1)\n",
    "print(\"parça 2:\", parca2)\n",
    "# 3 - Parçalanmış matrisleri birleştirin\n",
    "birlestirilmis= np.concatenate((parca1, parca2))\n",
    "print(\"birleştirilmiş matris:\", birlestirilmis)"
   ]
  },
  {
   "attachments": {},
   "cell_type": "markdown",
   "metadata": {},
   "source": [
    "# Problem 3"
   ]
  },
  {
   "cell_type": "code",
   "execution_count": 28,
   "metadata": {},
   "outputs": [
    {
     "name": "stdout",
     "output_type": "stream",
     "text": [
      "matris: [ 5  7  9 11 13 15 17 19 21 23 25 27 29 31 33 35 37 39 41 43 45 47 49 51\n",
      " 53 55 57 59 61 63 65 67 69 71 73 75 77 79 81 83 85 87 89 91 93 95 97 99]\n",
      "matrisin boyutu: (48,)\n",
      "matrisin boyut sayısı: 1\n",
      "matris veri tipi: int64\n"
     ]
    }
   ],
   "source": [
    "# 1 - 5 ile 100 arasında ikişer ikişer atlayarak rastgele 10 sayıdan oluşan matris üretin\n",
    "matris = np.arange(5, 101, 2)\n",
    "print(\"matris:\", matris)\n",
    "# 2 - matris'in özelliklerini inceleyin\n",
    "print(\"matrisin boyutu:\", matris.shape)\n",
    "print(\"matrisin boyut sayısı:\", matris.ndim)\n",
    "print(\"matris veri tipi:\", matris.dtype)\n",
    "\n",
    "\n"
   ]
  }
 ],
 "metadata": {
  "kernelspec": {
   "display_name": "Python 3",
   "language": "python",
   "name": "python3"
  },
  "language_info": {
   "codemirror_mode": {
    "name": "ipython",
    "version": 3
   },
   "file_extension": ".py",
   "mimetype": "text/x-python",
   "name": "python",
   "nbconvert_exporter": "python",
   "pygments_lexer": "ipython3",
   "version": "3.13.2"
  },
  "orig_nbformat": 4,
  "vscode": {
   "interpreter": {
    "hash": "5026d2d6e7aaaaba093def813beadff083d8733e4a511af01735cbabd156995d"
   }
  }
 },
 "nbformat": 4,
 "nbformat_minor": 2
}
