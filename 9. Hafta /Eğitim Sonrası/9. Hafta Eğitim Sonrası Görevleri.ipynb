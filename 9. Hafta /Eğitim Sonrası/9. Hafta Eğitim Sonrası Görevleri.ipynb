{
 "cells": [
  {
   "attachments": {},
   "cell_type": "markdown",
   "metadata": {},
   "source": [
    "# Problem 1 "
   ]
  },
  {
   "cell_type": "code",
   "execution_count": 1,
   "metadata": {},
   "outputs": [
    {
     "name": "stdout",
     "output_type": "stream",
     "text": [
      "array: [12 10 15 16 21]\n",
      "sıralanmış array: [10 12 15 16 21]\n"
     ]
    }
   ],
   "source": [
    "# 1 - numpy kütüphanesini import edin\n",
    "import numpy as np\n",
    "# 2 - 5 elemanlı bir numpy array oluşturun\n",
    "array= np.array([12, 10, 15, 16, 21])\n",
    "print(\"array:\", array)\n",
    "# 3 - Oluşturduğunuz arrayi küçükten büyüğe sıralayın.\n",
    "sıralama = np.sort(array)\n",
    "print(\"sıralanmış array:\", sıralama)\n"
   ]
  },
  {
   "attachments": {},
   "cell_type": "markdown",
   "metadata": {},
   "source": [
    "# Problem 2"
   ]
  },
  {
   "cell_type": "code",
   "execution_count": 3,
   "metadata": {},
   "outputs": [
    {
     "name": "stdout",
     "output_type": "stream",
     "text": [
      "array1: [10 15 30 45 60]\n",
      "array2: [ 5  6  7  8  9 10 11 12 13 14 15]\n",
      "array3: [ 50  55  60  65  70  75  80  85  90  95 100]\n",
      "array4: [0. 0. 0. 0. 0. 0. 0. 0. 0. 0.]\n",
      "array5: [1. 1. 1. 1. 1. 1. 1. 1. 1. 1.]\n",
      "array6: [  0.  25.  50.  75. 100.]\n",
      "array7: [28 10 28 16 16]\n",
      "array8: [ 0.74088669  0.22646383  0.01067008  0.49780127  0.19700861  0.94904277\n",
      "  0.48408213 -0.74146293  0.11326694  0.22903598]\n",
      "matris9:\n",
      " [[26 37 19 29 28]\n",
      " [11 20 29 26 27]\n",
      " [29 30 50 23 15]]\n",
      "satır ve sütun toplamları: 8\n",
      "en büyük değer: 50\n",
      "en küçük değer: 11\n",
      "ortalama: 26.6\n",
      "en büyük değerin indeksi: 12\n",
      "ilk 3 eleman: [10 11 12]\n",
      "ters array: [19 18 17 16 15 14 13 12 11 10]\n",
      "ilk satır: [26 37 19 29 28]\n",
      "2. ve 3. sütun elemanı: 29\n",
      "ilk elemanlar: [26 11 29]\n",
      "kareleri:\n",
      " [[ 676 1369  361  841  784]\n",
      " [ 121  400  841  676  729]\n",
      " [ 841  900 2500  529  225]]\n",
      "pozitif çift sayılar: [12 34 46 46]\n"
     ]
    }
   ],
   "source": [
    "# 1- (10,15,30,45,60) değerlerine sahip numpy dizisi oluşturunuz.\n",
    "array1 = np.array([10,15,30,45,60])\n",
    "print(\"array1:\", array1)\n",
    "\n",
    "# 2- (5-15) arasındaki sayılarla numpy dizisi oluşturunuz.\n",
    "array2= np.arange(5, 16)\n",
    "print(\"array2:\", array2)\n",
    "\n",
    "# 3- (50-100) arasında 5'er 5'er artarak numpy dizisi oluşturunuz.\n",
    "array3= np.arange(50, 101, 5)\n",
    "print(\"array3:\", array3)\n",
    "\n",
    "# 4- 10 elemanlı sıfırlardan oluşan bir dizi oluşturunuz.\n",
    "array4= np.zeros(10)\n",
    "print(\"array4:\", array4)\n",
    "\n",
    "# 5- 10 elemanlı birlerden oluşan bir dizi oluşturunuz.\n",
    "array5= np.ones(10)\n",
    "print(\"array5:\", array5)\n",
    "\n",
    "# 6- (0-100) arasında eşit aralıklı 5 sayı üretin.\n",
    "array6= np.linspace(0, 100, 5)\n",
    "print(\"array6:\", array6)\n",
    "\n",
    "# 7- (10-30) arasında rastgele 5 tane tamsayı üretin.\n",
    "array7= np.random.randint(10, 31, 5)\n",
    "print(\"array7:\", array7)\n",
    "\n",
    "# 8- [-1 ile 1] arasında 10 adet sayı üretin.\n",
    "array8= np.random.uniform(-1,1,10)\n",
    "print(\"array8:\", array8)\n",
    "\n",
    "# 9- (3x5) boyutlarında (10-50) arasında rastgele bir matris oluşturunuz.\n",
    "matris9= np.random.randint(10,51, (3,5))\n",
    "print(\"matris9:\\n\", matris9)\n",
    "\n",
    "# 10- Üretilen matrisin satır ve sütun sayıları toplamlarını hesaplayınız ?\n",
    "toplam= matris9.shape[0]+matris9.shape[1]\n",
    "print(\"satır ve sütun toplamları:\", toplam)\n",
    "\n",
    "# 11- Üretilen matrisin en büyük, en küçük ve ortalaması nedir ?\n",
    "en_buyuk= np.max(matris9)\n",
    "print(\"en büyük değer:\", en_buyuk)\n",
    "en_kucuk= np.min(matris9)\n",
    "print(\"en küçük değer:\", en_kucuk)\n",
    "ortalama= np.mean(matris9)\n",
    "print(\"ortalama:\", ortalama)\n",
    "# 12- Üretilen matrisin en büyük değerinin indeksi kaçtır ?\n",
    "en_buyuk_index= np.argmax(matris9)\n",
    "print(\"en büyük değerin indeksi:\", en_buyuk_index)\n",
    "\n",
    "# 13- (10-20) arasındaki sayıları içeren dizinin ilk 3 elemanını seçiniz.\n",
    "array13= np.arange(10, 20)\n",
    "ilk3= array13[:3]\n",
    "print(\"ilk 3 eleman:\", ilk3)\n",
    "\n",
    "# 14- Üretilen dizinin elemanlarını tersten yazdırın.\n",
    "tersarray= array13[::-1]\n",
    "print(\"ters array:\", tersarray)\n",
    "\n",
    "# 15- Üretilen matrisin ilk satırını seçiniz.\n",
    "ilk_satir= matris9[0, :]\n",
    "print(\"ilk satır:\", ilk_satir)\n",
    "# 16- Üretilen matrisin 2.satır 3.sütundaki elemanı hangisidir ?\n",
    "eleman2_3= matris9[1,2]\n",
    "print(\"2. ve 3. sütun elemanı:\", eleman2_3)\n",
    "\n",
    "# 17- Üretilen matrisin tüm satırlardaki ilk elemanı seçiniz.\n",
    "ilk_eleman=matris9[:,0]\n",
    "print(\"ilk elemanlar:\", ilk_eleman)\n",
    "\n",
    "# 18- Üretilen matrisin her bir elemanının karesini alınız.\n",
    "kare=np.square(matris9)\n",
    "print(\"kareleri:\\n\", kare)\n",
    "\n",
    "# 19- Üretilen matris elemanlarının hangisi pozitif çift sayıdır ? Aralığı (-50,+50) arasında yapınız.\n",
    "matris19= np.random.randint(-50,51, (3,5))\n",
    "pozitif= matris19[(matris19> 0) & (matris19 % 2== 0)]\n",
    "print(\"pozitif çift sayılar:\", pozitif)"
   ]
  }
 ],
 "metadata": {
  "kernelspec": {
   "display_name": "Python 3",
   "language": "python",
   "name": "python3"
  },
  "language_info": {
   "codemirror_mode": {
    "name": "ipython",
    "version": 3
   },
   "file_extension": ".py",
   "mimetype": "text/x-python",
   "name": "python",
   "nbconvert_exporter": "python",
   "pygments_lexer": "ipython3",
   "version": "3.13.2"
  },
  "orig_nbformat": 4,
  "vscode": {
   "interpreter": {
    "hash": "5026d2d6e7aaaaba093def813beadff083d8733e4a511af01735cbabd156995d"
   }
  }
 },
 "nbformat": 4,
 "nbformat_minor": 2
}
