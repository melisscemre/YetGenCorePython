{
 "cells": [
  {
   "cell_type": "markdown",
   "metadata": {
    "id": "Rm1DKmXZM-Ja"
   },
   "source": [
    "# Problem 1\n",
    "\n",
    "Fizikte, bir nesnenin sabit ivmeyle hareket ederken son hızını \n",
    "(veya hızını) bulmak için aşağıdaki denklem kullanılabilir:\n",
    "```\n",
    "vf = vi + at\n",
    "burada:\n",
    "vf= son hız\n",
    "vi= ilk hız\n",
    "a= hızlanma\n",
    "t= zaman\n",
    "```\n",
    "İlk hız, ivme ve zaman verildiğinde, son hızı döndürecek bir fonksiyon yazın."
   ]
  },
  {
   "cell_type": "code",
   "execution_count": 2,
   "metadata": {
    "id": "vWrjJiV0M-Jk"
   },
   "outputs": [
    {
     "name": "stdout",
     "output_type": "stream",
     "text": [
      "Son hız: 130.0 m/s\n",
      "20\n",
      "29.400000000000002\n"
     ]
    }
   ],
   "source": [
    "def son_hiz(vi, a, t):\n",
    "    vf = vi + (a * t)\n",
    "    return vf\n",
    "\n",
    "# Kullanıcıdan giriş al\n",
    "try:\n",
    "    ilk_hiz = float(input(\"İlk hızı giriniz (m/s): \"))  # Kullanıcıdan ilk hız al\n",
    "    ivme = float(input(\"İvmeyi giriniz (m/s²): \"))  # Kullanıcıdan ivme al\n",
    "    zaman = float(input(\"Zamanı giriniz (s): \"))  # Kullanıcıdan zaman al\n",
    "\n",
    "    # Son hızı hesapla ve ekrana yazdır\n",
    "    print(\"Son hız:\", son_hiz(ilk_hiz, ivme, zaman), \"m/s\")\n",
    "\n",
    "    # Testler\n",
    "    print(son_hiz(10, 2, 5))  # 20 m/s çıkmalı\n",
    "    print(son_hiz(0, 9.8, 3))  # 29.4 m/s çıkmalı\n",
    "\n",
    "except ValueError:\n",
    "    print(\"Hatalı giriş! Lütfen sayısal bir değer giriniz.\")\n",
    "\n"
   ]
  },
  {
   "cell_type": "markdown",
   "metadata": {
    "id": "uAHpyY5HM-Jq"
   },
   "source": [
    "# Problem 2\n",
    "\n",
    "1'den 1000'e kadar olan sayılardan mükemmel sayı olanları ekrana yazdırın. Bunun için bir sayının mükemmel olup olmadığını dönen bir tane fonksiyon yazın.\n",
    "\n",
    "Bir sayının bölenlerinin toplamı kendine eşitse bu sayı mükemmel bir sayıdır. Örnek olarak 6 mükemmel bir sayıdır (1 + 2 + 3 = 6)."
   ]
  },
  {
   "cell_type": "code",
   "execution_count": 3,
   "metadata": {
    "id": "yrY4Y5ncM-Jr"
   },
   "outputs": [
    {
     "name": "stdout",
     "output_type": "stream",
     "text": [
      "6\n",
      "28\n",
      "496\n"
     ]
    }
   ],
   "source": [
    "# 2.Problemin Çözümünü Buraya Yazınız\n",
    "def mukemmel_mi(n):\n",
    "    toplam = sum(i for i in range(1, n // 2 + 1) if n % i == 0)\n",
    "    return toplam == n\n",
    "\n",
    "# 1'den 1000'e kadar olan mükemmel sayıları yazdır\n",
    "for sayi in range(1, 1001):\n",
    "    if mukemmel_mi(sayi):\n",
    "        print(sayi)\n"
   ]
  },
  {
   "cell_type": "markdown",
   "metadata": {
    "id": "C2-XwlJtM-Jr"
   },
   "source": [
    "# Problem 3\n",
    "\n",
    "1'den 100'e kadar olan sayılardan pisagor üçgeni oluşturanları ekrana yazdıran bir fonksiyon yazın.(a <= 100,b <= 100)\n"
   ]
  },
  {
   "cell_type": "code",
   "execution_count": 4,
   "metadata": {
    "id": "BMNy4xi-M-Js"
   },
   "outputs": [
    {
     "name": "stdout",
     "output_type": "stream",
     "text": [
      "a = 3, b = 4, c = 5\n",
      "a = 5, b = 12, c = 13\n",
      "a = 6, b = 8, c = 10\n",
      "a = 7, b = 24, c = 25\n",
      "a = 8, b = 15, c = 17\n",
      "a = 9, b = 12, c = 15\n",
      "a = 9, b = 40, c = 41\n",
      "a = 10, b = 24, c = 26\n",
      "a = 11, b = 60, c = 61\n",
      "a = 12, b = 16, c = 20\n",
      "a = 12, b = 35, c = 37\n",
      "a = 13, b = 84, c = 85\n",
      "a = 14, b = 48, c = 50\n",
      "a = 15, b = 20, c = 25\n",
      "a = 15, b = 36, c = 39\n",
      "a = 16, b = 30, c = 34\n",
      "a = 16, b = 63, c = 65\n",
      "a = 18, b = 24, c = 30\n",
      "a = 18, b = 80, c = 82\n",
      "a = 20, b = 21, c = 29\n",
      "a = 20, b = 48, c = 52\n",
      "a = 21, b = 28, c = 35\n",
      "a = 21, b = 72, c = 75\n",
      "a = 24, b = 32, c = 40\n",
      "a = 24, b = 45, c = 51\n",
      "a = 24, b = 70, c = 74\n",
      "a = 25, b = 60, c = 65\n",
      "a = 27, b = 36, c = 45\n",
      "a = 28, b = 45, c = 53\n",
      "a = 28, b = 96, c = 100\n",
      "a = 30, b = 40, c = 50\n",
      "a = 30, b = 72, c = 78\n",
      "a = 32, b = 60, c = 68\n",
      "a = 33, b = 44, c = 55\n",
      "a = 33, b = 56, c = 65\n",
      "a = 35, b = 84, c = 91\n",
      "a = 36, b = 48, c = 60\n",
      "a = 36, b = 77, c = 85\n",
      "a = 39, b = 52, c = 65\n",
      "a = 39, b = 80, c = 89\n",
      "a = 40, b = 42, c = 58\n",
      "a = 40, b = 75, c = 85\n",
      "a = 42, b = 56, c = 70\n",
      "a = 45, b = 60, c = 75\n",
      "a = 48, b = 55, c = 73\n",
      "a = 48, b = 64, c = 80\n",
      "a = 51, b = 68, c = 85\n",
      "a = 54, b = 72, c = 90\n",
      "a = 57, b = 76, c = 95\n",
      "a = 60, b = 63, c = 87\n",
      "a = 60, b = 80, c = 100\n",
      "a = 65, b = 72, c = 97\n"
     ]
    }
   ],
   "source": [
    "# 3.Problemin Çözümünü Buraya Yazınız\n",
    "def pisagor_ucgenleri():\n",
    "    for a in range(1, 101):\n",
    "        for b in range(a, 101):  # b >= a olmalı, çünkü simetrik çözümler tekrar edilmesin\n",
    "            c = (a**2 + b**2)**0.5  # c'yi hesapla\n",
    "            if c.is_integer() and c <= 100:  # Eğer c tam sayı ise ve 100'ü geçmiyorsa\n",
    "                print(f\"a = {a}, b = {b}, c = {int(c)}\")\n",
    "\n",
    "pisagor_ucgenleri()\n"
   ]
  },
  {
   "cell_type": "markdown",
   "metadata": {
    "id": "oPfmWi4jM-Js"
   },
   "source": [
    "# Problem 4\n",
    "\n",
    "Bir duvar boyamaya karar verdiniz. Boya kutusunun üzerindeki talimatta, 1 kutu boyanın 5 metrekarelik bir duvarı boyayabileceği yazıyor. Rastgele bir duvar yüksekliği ve genişliği verildiğinde, kaç kutu boya satın almanız gerektiğini hesaplayın.\n",
    "\n",
    "kutu sayısı = (duvar yüksekliği * duvar genişliği) ÷ kutu başına kaplama.\n",
    "\n",
    "örneğin Yükseklik = 2, Genişlik = 4, Kaplama = 5\n",
    "\n",
    "kutu sayısı = (2 * 4) ÷ 5 = 1.6\n",
    "\n",
    "Ancak bir kutu boyanın 0,6'sını satın alamayacağınız için, sonuç 2 kutuya yuvarlanmalıdır .\n"
   ]
  },
  {
   "cell_type": "code",
   "execution_count": 1,
   "metadata": {
    "id": "0zuyzSp5M-Jt"
   },
   "outputs": [
    {
     "name": "stdout",
     "output_type": "stream",
     "text": [
      "Duvar alanı: 8 m²\n",
      "Gerekli kutu sayısı: 2\n"
     ]
    }
   ],
   "source": [
    "# 4.Problemin Çözümünü Buraya Yazınız\n",
    "import math\n",
    "\n",
    "def boya_kutu_hesapla(yukseklik, genislik, kaplama):\n",
    "    alan = yukseklik * genislik\n",
    "    kutu_sayisi = math.ceil(alan / kaplama)\n",
    "    print(f\"Duvar alanı: {alan} m²\")\n",
    "    print(f\"Gerekli kutu sayısı: {kutu_sayisi}\")\n",
    "\n",
    "# Örnek kullanım\n",
    "boya_kutu_hesapla(2, 4, 5)\n"
   ]
  },
  {
   "cell_type": "markdown",
   "metadata": {
    "id": "pe6TJuBBM-Ju"
   },
   "source": [
    "# Problem 5\n",
    "\n",
    "Bir kelimedeki ünlü ve ünsüz harfleri sayan bir fonksiyon yazınız."
   ]
  },
  {
   "cell_type": "code",
   "execution_count": 5,
   "metadata": {
    "id": "LJ0opjiLM-Ju"
   },
   "outputs": [
    {
     "name": "stdout",
     "output_type": "stream",
     "text": [
      "Ünlü harf sayısı: 3, Ünsüz harf sayısı: 4\n"
     ]
    }
   ],
   "source": [
    "# 5.Problemin Çözümünü Buraya Yazınız\n",
    "def harf_sayaci(kelime):\n",
    "    # Ünlü harfler\n",
    "    unlu_harfler = \"aeiouAEIOU\"\n",
    "    \n",
    "    # Başlangıçta ünlü ve ünsüz sayıları sıfır\n",
    "    unlu_sayi = 0\n",
    "    unsuz_sayi = 0\n",
    "    \n",
    "    # Kelimenin her harfi için kontrol yap\n",
    "    for harf in kelime:\n",
    "        if harf.isalpha():  # Harf olup olmadığını kontrol et\n",
    "            if harf in unlu_harfler:  # Ünlü harf mi?\n",
    "                unlu_sayi += 1\n",
    "            else:  # Ünsüz harf mi?\n",
    "                unsuz_sayi += 1\n",
    "    \n",
    "    return unlu_sayi, unsuz_sayi\n",
    "\n",
    "# Örnek kullanım\n",
    "kelime = \"Merhaba\"\n",
    "unlu, unsuz = harf_sayaci(kelime)\n",
    "print(f\"Ünlü harf sayısı: {unlu}, Ünsüz harf sayısı: {unsuz}\")\n"
   ]
  },
  {
   "cell_type": "markdown",
   "metadata": {
    "id": "Lfls2YTXM-Jv"
   },
   "source": [
    "# Problem 6\n",
    "\n",
    "Verilen bir listeden çift sayıları yazdıran bir fonksiyon yazınız.\n"
   ]
  },
  {
   "cell_type": "code",
   "execution_count": 6,
   "metadata": {
    "id": "qUwsL20IM-Jv"
   },
   "outputs": [
    {
     "name": "stdout",
     "output_type": "stream",
     "text": [
      "2\n",
      "4\n",
      "6\n",
      "8\n",
      "10\n"
     ]
    }
   ],
   "source": [
    "# 6.Problemin Çözümünü Buraya Yazınız\n",
    "def cift_sayilari_yazdir(liste):\n",
    "    # Listedeki her sayıyı kontrol et\n",
    "    for sayi in liste:\n",
    "        if sayi % 2 == 0:  # Eğer sayı çiftse\n",
    "            print(sayi)\n",
    "\n",
    "# Örnek kullanım\n",
    "liste = [1, 2, 3, 4, 5, 6, 7, 8, 9, 10]\n",
    "cift_sayilari_yazdir(liste)\n"
   ]
  },
  {
   "cell_type": "markdown",
   "metadata": {
    "id": "IPp724iIM-Jy"
   },
   "source": [
    "# Problem 7\n",
    "\n",
    "0'dan 10'a kadar olan sayıların toplamını hesaplayan özyinelemeli (Recursive Function) bir fonksiyon oluşturan bir fonksiyon yazınız.\n",
    "\n",
    "Özyinelemeli (Recursive Function) bir işlev, kendini tekrar tekrar çağıran bir işlevdir."
   ]
  },
  {
   "cell_type": "code",
   "execution_count": 7,
   "metadata": {
    "id": "KFW6xhTJM-Jz"
   },
   "outputs": [
    {
     "name": "stdout",
     "output_type": "stream",
     "text": [
      "0'dan 10'a kadar olan sayıların toplamı: 55\n"
     ]
    }
   ],
   "source": [
    "# 7.Problemin Çözümünü Buraya Yazınız\n",
    "def toplam(n):\n",
    "    # Temel durum: n 0 olduğunda, toplam 0'dır\n",
    "    if n == 0:\n",
    "        return 0\n",
    "    else:\n",
    "        # Özyineleme: n'i toplama ekleyip, bir önceki sayıya git\n",
    "        return n + toplam(n - 1)\n",
    "\n",
    "# Örnek kullanım\n",
    "sonuc = toplam(10)\n",
    "print(f\"0'dan 10'a kadar olan sayıların toplamı: {sonuc}\")\n"
   ]
  }
 ],
 "metadata": {
  "colab": {
   "provenance": []
  },
  "kernelspec": {
   "display_name": "Python 3",
   "language": "python",
   "name": "python3"
  },
  "language_info": {
   "codemirror_mode": {
    "name": "ipython",
    "version": 3
   },
   "file_extension": ".py",
   "mimetype": "text/x-python",
   "name": "python",
   "nbconvert_exporter": "python",
   "pygments_lexer": "ipython3",
   "version": "3.13.2"
  },
  "orig_nbformat": 4
 },
 "nbformat": 4,
 "nbformat_minor": 0
}
