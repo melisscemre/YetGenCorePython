{
 "cells": [
  {
   "cell_type": "markdown",
   "metadata": {
    "id": "hpyeSHc7K1aN"
   },
   "source": [
    "# Problem 1\n",
    "Bir YetGenli yeni aldığı bahçesinin etrafına çit çevirmek istiyor. Bahçenin etrafını çit ile çevirmek için gerekli çit uzunluğunu ve bahçenin alanını hesaplayan fonksiyonu yazınız."
   ]
  },
  {
   "cell_type": "code",
   "execution_count": 9,
   "metadata": {},
   "outputs": [
    {
     "name": "stdout",
     "output_type": "stream",
     "text": [
      "(60, 200)\n"
     ]
    }
   ],
   "source": [
    "def hesaplama(uzunkenar, kısakenar):\n",
    "    çevre= 2*(uzunkenar + kısakenar)\n",
    "    alan= uzunkenar * kısakenar\n",
    "    return çevre, alan\n",
    "\n",
    "uzunkenar= 20 \n",
    "kısakenar= 10\n",
    "\n",
    "print(hesaplama(uzunkenar, kısakenar))"
   ]
  },
  {
   "cell_type": "markdown",
   "metadata": {
    "id": "L90q8kwQK1aW"
   },
   "source": [
    "# Problem 2\n",
    "Kendisine gönderilen 2 sayı arasındaki tüm asal sayıları bulan fonksiyonu yazınız."
   ]
  },
  {
   "cell_type": "code",
   "execution_count": 10,
   "metadata": {
    "id": "VxbxzQXdK1aX"
   },
   "outputs": [
    {
     "name": "stdout",
     "output_type": "stream",
     "text": [
      "[11, 13, 17, 19, 23, 29]\n"
     ]
    }
   ],
   "source": [
    "# 2.Problemin Çözümünü Buraya Yazınız\n",
    "\n",
    "def is_prime(n):\n",
    "    if n < 2:\n",
    "        return False\n",
    "    for i in range(2, int(n ** 0.5) + 1):\n",
    "        if n % i == 0:\n",
    "            return False\n",
    "    return True\n",
    "\n",
    "def find_primes_between(a, b):\n",
    "    return [num for num in range(a, b + 1) if is_prime(num)]\n",
    "\n",
    "# Test\n",
    "print(find_primes_between(10, 30))  # [11, 13, 17, 19, 23, 29]"
   ]
  },
  {
   "cell_type": "markdown",
   "metadata": {
    "id": "OqbcX2FPK1aY"
   },
   "source": [
    "# Problem 3\n",
    "YetGen liderlerinin kurdukları girişim unicorn oluyor. YetGen liderleri iş arkadaşlarının alacağı ücretlerini hesaplamak için bir fonksiyon yazdılar. Bu fonksiyonu kullanarak, YetGen liderlerinin iş arkadaşlarına verecekleri ücretleri hesaplayınız.\n",
    "\n",
    "Ücret hesaplanması çalışma saatine bağlıdır. Bunun için kullanıcıdan çalışma saati bilgisinn alın. Sonrasında yapılacak ödemenin hesaplanacağı computePay() adlı bir fonksiyon oluşturun. Bu fonksiyonun içinde işlemler yapın. Çalışma saati 40 ve altındaysa saat başına ücret 10 TL’dir. 40 saatin üstünde çalışıldıysa saat başına ücret 15 TL sayılmaktadır.\n",
    "\n",
    "```\n",
    "Test etmek için 30 saat değerini giriniz,  sonuç 300 TL çıkmalı, \n",
    "ikincil test olarak 50 değerini giriniz,  sonuç 750 TL çıkmalı.\n",
    "```"
   ]
  },
  {
   "cell_type": "code",
   "execution_count": 13,
   "metadata": {
    "id": "Uhg6Gcc1K1aZ"
   },
   "outputs": [
    {
     "name": "stdout",
     "output_type": "stream",
     "text": [
      "Ödenecek ücret: 300 TL\n",
      "300\n",
      "550\n"
     ]
    }
   ],
   "source": [
    "def computePay(hours):\n",
    "    if hours <= 40:\n",
    "        return hours * 10\n",
    "    else:\n",
    "        return (40 * 10) + ((hours - 40) * 15)\n",
    "\n",
    "# Kullanıcıdan çalışma saati al\n",
    "calisma_saati = int(input(\"Çalışma saatini giriniz: \"))\n",
    "\n",
    "# Ücreti hesapla ve ekrana yazdır\n",
    "print(\"Ödenecek ücret:\", computePay(calisma_saati), \"TL\")\n",
    "\n",
    "# Testler\n",
    "print(computePay(30))  # 300 TL\n",
    "print(computePay(50))  # 750 TL\n"
   ]
  },
  {
   "cell_type": "markdown",
   "metadata": {
    "id": "V0BeBR90K1aZ"
   },
   "source": [
    "# Problem 4\n",
    "YetGenliler zirveye gitmek için toplanıyor. Zirveye gitmek için kiraladıkları araçlar 4'er kişiliktir. Gelecek kişi sayısı için Airtable üzerinde form açılıyor. Gelecek kişi sayısını alıp dört kişilik araçlara bölüp kalan kişi sayısını döndüren bir fonksiyon yazınız."
   ]
  },
  {
   "cell_type": "code",
   "execution_count": 15,
   "metadata": {
    "id": "AC8x-EQlK1aa"
   },
   "outputs": [
    {
     "name": "stdout",
     "output_type": "stream",
     "text": [
      "Araçlara sığmayan kişi sayısı: 0\n",
      "2\n",
      "0\n",
      "1\n"
     ]
    }
   ],
   "source": [
    "# 4.Problemin Çözümünü Buraya Yazınız\n",
    "def kalan_kisi_sayisi(kisi_sayisi):\n",
    "    kalan = kisi_sayisi % 4  # 4'er kişilik araçlara bölündüğünde kalan kişi sayısı\n",
    "    return kalan\n",
    "\n",
    "# Kullanıcıdan kişi sayısını al\n",
    "kisi_sayisi = int(input(\"Gelecek kişi sayısını giriniz: \"))\n",
    "\n",
    "# Kalan kişi sayısını hesapla ve ekrana yazdır\n",
    "print(\"Araçlara sığmayan kişi sayısı:\", kalan_kisi_sayisi(kisi_sayisi))\n",
    "\n",
    "# Testler\n",
    "print(kalan_kisi_sayisi(10))  # 2 kişi artar\n",
    "print(kalan_kisi_sayisi(16))  # 0 kişi artar (tam bölündü)\n",
    "print(kalan_kisi_sayisi(21))  # 1 kişi artar\n"
   ]
  },
  {
   "cell_type": "markdown",
   "metadata": {
    "id": "dWcDwEVjK1ab"
   },
   "source": [
    "# Problem 5\n",
    "sayiTopla() adında bir fonksiyon yazın. sayiTopla() fonksiyonu girilen sayıları toplayarak yazdırmasını sağlayan bir fonksiyon yazınız.\n",
    "\n",
    "Örneğin sayiTopla(1,2,3,4,5) yazdığımızda 15 çıktısını almalıyız. sayiTopla(1,2,3,4,5,6,7,8,9,10) yazdığımızda 55 çıktısını almalıyız."
   ]
  },
  {
   "cell_type": "code",
   "execution_count": 14,
   "metadata": {
    "id": "fmCZcLM2K1ad"
   },
   "outputs": [
    {
     "name": "stdout",
     "output_type": "stream",
     "text": [
      "15\n",
      "55\n"
     ]
    }
   ],
   "source": [
    "# 5.Problemin Çözümünü Buraya Yazınız\n",
    "def sayiTopla(*args):\n",
    "    return sum(args)\n",
    "\n",
    "# Testler\n",
    "print(sayiTopla(1, 2, 3, 4, 5))  # Çıktı: 15\n",
    "print(sayiTopla(1, 2, 3, 4, 5, 6, 7, 8, 9, 10))  # Çıktı: 55\n"
   ]
  },
  {
   "cell_type": "markdown",
   "metadata": {
    "id": "kd9edMkoK1ae"
   },
   "source": [
    "# Problem 6\n",
    "\n",
    "[(\"xxx\",1),(\"xxx\",2),(\"xxx\",9),(\"xxx\",3), (\"xxx\",1),(\"xxx\",13),(\"xxx\",26),(\"xxx\",4)] listesi içerisinde verilen elemanların her birini tuple içindeki 2. Elemana göre sıralayınız. \n",
    "\n"
   ]
  },
  {
   "cell_type": "code",
   "execution_count": 16,
   "metadata": {
    "id": "Jk4tgaH3K1af"
   },
   "outputs": [
    {
     "name": "stdout",
     "output_type": "stream",
     "text": [
      "[('xxx', 1), ('xxx', 1), ('xxx', 2), ('xxx', 3), ('xxx', 4), ('xxx', 9), ('xxx', 13), ('xxx', 26)]\n"
     ]
    }
   ],
   "source": [
    "# 6.Problemin Çözümünü Buraya Yazınız\n",
    "liste = [(\"xxx\", 1), (\"xxx\", 2), (\"xxx\", 9), (\"xxx\", 3), \n",
    "         (\"xxx\", 1), (\"xxx\", 13), (\"xxx\", 26), (\"xxx\", 4)]\n",
    "\n",
    "# İkinci elemana göre sıralama\n",
    "sirali_liste = sorted(liste, key=lambda x: x[1])\n",
    "\n",
    "print(sirali_liste)\n"
   ]
  },
  {
   "cell_type": "markdown",
   "metadata": {
    "id": "V0yKbDraK1af"
   },
   "source": [
    "# Problem 7\n",
    "List comprehension kullanarak 1'den 100'e kadar olan sayılardan sadece çift sayıları bir listeye atmayı yapmayı çalışın."
   ]
  },
  {
   "cell_type": "code",
   "execution_count": 17,
   "metadata": {
    "id": "iHosmISJK1ag"
   },
   "outputs": [
    {
     "name": "stdout",
     "output_type": "stream",
     "text": [
      "[2, 4, 6, 8, 10, 12, 14, 16, 18, 20, 22, 24, 26, 28, 30, 32, 34, 36, 38, 40, 42, 44, 46, 48, 50, 52, 54, 56, 58, 60, 62, 64, 66, 68, 70, 72, 74, 76, 78, 80, 82, 84, 86, 88, 90, 92, 94, 96, 98, 100]\n"
     ]
    }
   ],
   "source": [
    "# 7.Problemin Çözümünü Buraya Yazınız\n",
    "cift_sayilar = [x for x in range(1, 101) if x % 2 == 0]\n",
    "print(cift_sayilar)\n"
   ]
  }
 ],
 "metadata": {
  "colab": {
   "provenance": []
  },
  "kernelspec": {
   "display_name": "Python 3",
   "language": "python",
   "name": "python3"
  },
  "language_info": {
   "codemirror_mode": {
    "name": "ipython",
    "version": 3
   },
   "file_extension": ".py",
   "mimetype": "text/x-python",
   "name": "python",
   "nbconvert_exporter": "python",
   "pygments_lexer": "ipython3",
   "version": "3.13.2"
  },
  "orig_nbformat": 4
 },
 "nbformat": 4,
 "nbformat_minor": 0
}
