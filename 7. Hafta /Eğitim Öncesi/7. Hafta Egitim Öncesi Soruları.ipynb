{
 "cells": [
  {
   "cell_type": "markdown",
   "metadata": {
    "id": "Pzh44PAE5H61"
   },
   "source": [
    "# Problem 1 \n",
    "Kullanıcıdan aldığı ürün bilgisini (ad, fiyat) urunler.txt dosyasına kayıt eden fonksiyonu yazınız."
   ]
  },
  {
   "cell_type": "code",
   "execution_count": null,
   "metadata": {},
   "outputs": [
    {
     "name": "stdout",
     "output_type": "stream",
     "text": [
      "✅ Ürün başarıyla kaydedildi!\n"
     ]
    }
   ],
   "source": [
    "\n",
    "ad = input(\"Ürün adı girin: \")\n",
    "fiyat = input(\"Fiyatını girin: \")\n",
    "\n",
    "with open(\"urunler.txt\", \"a\", encoding=\"utf-8\") as dosya:\n",
    "    dosya.write(f\"{ad}, {fiyat} TL\\n\")\n",
    "\n",
    "print(\"✅ Ürün başarıyla kaydedildi!\")\n"
   ]
  },
  {
   "cell_type": "markdown",
   "metadata": {
    "id": "Lw7xy19D5H66"
   },
   "source": [
    "# Problem 2\n",
    "1.problemde oluşturulan text dosyası içerisinde kullanıcıdan alacağımız eski kelime isimli değişkene atadığımız \n",
    "ve değiştirilmesini istediğimiz kelimemizi yerini alıcak olan yeni kelime isimli değişkene atayın. Belirlenen kelimeleri text dosyasında değiştiren fonksiyonu yazınız."
   ]
  },
  {
   "cell_type": "code",
   "execution_count": 11,
   "metadata": {
    "id": "jDlym3ko5H66"
   },
   "outputs": [
    {
     "ename": "NameError",
     "evalue": "name 'urunler' is not defined",
     "output_type": "error",
     "traceback": [
      "\u001b[0;31m---------------------------------------------------------------------------\u001b[0m",
      "\u001b[0;31mNameError\u001b[0m                                 Traceback (most recent call last)",
      "Cell \u001b[0;32mIn[11], line 5\u001b[0m\n\u001b[1;32m      3\u001b[0m     yenikelime\u001b[38;5;241m=\u001b[39m \u001b[38;5;28minput\u001b[39m(\u001b[38;5;124m\"\u001b[39m\u001b[38;5;124mYeni Kelime: \u001b[39m\u001b[38;5;124m\"\u001b[39m)\n\u001b[1;32m      4\u001b[0m \u001b[38;5;28;01mtry\u001b[39;00m:\n\u001b[0;32m----> 5\u001b[0m     \u001b[38;5;28;01mwith\u001b[39;00m \u001b[38;5;28mopen\u001b[39m(\u001b[43murunler\u001b[49m, \u001b[38;5;124m\"\u001b[39m\u001b[38;5;124mr\u001b[39m\u001b[38;5;124m\"\u001b[39m, encoding\u001b[38;5;241m=\u001b[39m\u001b[38;5;124m\"\u001b[39m\u001b[38;5;124mutf-8\u001b[39m\u001b[38;5;124m\"\u001b[39m) \u001b[38;5;28;01mas\u001b[39;00m dosya:\n\u001b[1;32m      6\u001b[0m         icerik\u001b[38;5;241m=\u001b[39m dosya\u001b[38;5;241m.\u001b[39mread()\n\u001b[1;32m      7\u001b[0m     yeni_icerik\u001b[38;5;241m=\u001b[39m icerik\u001b[38;5;241m.\u001b[39mreplace(eskikelime, yenikelime)\n",
      "\u001b[0;31mNameError\u001b[0m: name 'urunler' is not defined"
     ]
    }
   ],
   "source": [
    "def kelime_degistir(urunler):\n",
    "    eskikelime= input(\"Değiştirilecek kelime: \")\n",
    "    yenikelime= input(\"Yeni Kelime: \")\n",
    "try:\n",
    "    with open(urunler, \"r\", encoding=\"utf-8\") as dosya:\n",
    "        icerik= dosya.read()\n",
    "    yeni_icerik= icerik.replace(eskikelime, yenikelime)\n",
    "\n",
    "    with open(urunler,\"w\", encoding=\"utf-8\") as dosya:\n",
    "        dosya,write(yeni_icerik)\n",
    "    print(\"Kelime başarıyla değiştirildi.\")\n",
    "\n",
    "except FileNotFoundError:\n",
    "    print(\"Dosya Bulunamadı.\")\n"
   ]
  },
  {
   "cell_type": "markdown",
   "metadata": {
    "id": "3aSYk4FF5H67"
   },
   "source": [
    "# Problem 3\n",
    "Vehicle sınıfının tüm değişkenlerini ve yöntemlerini devralacak bir alt sınıf olarak Bus sınıfı oluşturunuz.\n",
    "\n",
    "\n",
    "\n",
    "```\n",
    "Output\n",
    "> Name: School Volvo Speed: 180 Mileage: 12\n",
    "```\n"
   ]
  },
  {
   "cell_type": "code",
   "execution_count": null,
   "metadata": {
    "id": "PwCI6Xkb5H68"
   },
   "outputs": [],
   "source": [
    "# 3.Problemin Çözümünü Buraya Yazınız"
   ]
  }
 ],
 "metadata": {
  "colab": {
   "provenance": []
  },
  "kernelspec": {
   "display_name": "Python 3",
   "language": "python",
   "name": "python3"
  },
  "language_info": {
   "codemirror_mode": {
    "name": "ipython",
    "version": 3
   },
   "file_extension": ".py",
   "mimetype": "text/x-python",
   "name": "python",
   "nbconvert_exporter": "python",
   "pygments_lexer": "ipython3",
   "version": "3.13.2"
  },
  "orig_nbformat": 4,
  "vscode": {
   "interpreter": {
    "hash": "5026d2d6e7aaaaba093def813beadff083d8733e4a511af01735cbabd156995d"
   }
  }
 },
 "nbformat": 4,
 "nbformat_minor": 0
}
