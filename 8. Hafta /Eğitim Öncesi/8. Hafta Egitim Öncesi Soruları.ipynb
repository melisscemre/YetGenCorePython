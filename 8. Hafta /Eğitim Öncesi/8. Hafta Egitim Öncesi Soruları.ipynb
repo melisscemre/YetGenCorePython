{
 "cells": [
  {
   "cell_type": "markdown",
   "metadata": {
    "id": "uiCS34ejv4VG"
   },
   "source": [
    "# Problem 1\n",
    "Vehicle sınıfından miras alan bir Bus sınıfı oluşturun. Bus.seating_capacity()'nin kapasite bağımsız değişkenine varsayılan olarak 50 değerini verin.\n",
    "\n",
    "```\n",
    "Output:\n",
    "> The seating capacity of a bus is 50 passengers\n",
    "```\n"
   ]
  },
  {
   "cell_type": "code",
   "execution_count": 4,
   "metadata": {
    "id": "keGKzILev4VE"
   },
   "outputs": [
    {
     "ename": "SyntaxError",
     "evalue": "invalid syntax (539691180.py, line 10)",
     "output_type": "error",
     "traceback": [
      "\u001b[0;36m  Cell \u001b[0;32mIn[4], line 10\u001b[0;36m\u001b[0m\n\u001b[0;31m    def __init__(self.kapasite):\u001b[0m\n\u001b[0m                     ^\u001b[0m\n\u001b[0;31mSyntaxError\u001b[0m\u001b[0;31m:\u001b[0m invalid syntax\n"
     ]
    }
   ],
   "source": [
    "class Vehicle:\n",
    "    def __init__ (self, kapasite):\n",
    "        self.kapasite=kapasite\n",
    "        print(\"Vehicle nesnesi oluşturuldu.\")\n",
    "\n",
    "    def intro(self):\n",
    "        print(self,kapasite)\n",
    "\n",
    "class Bus(Vehicle):\n",
    "    def __init__(self.kapasite):\n",
    "       self.kapasite= kapasite\n",
    "       print(\"Bus nesnesi oluşturuldu.\")\n",
    "\n",
    "    def seating_capacity(self):\n",
    "        print(f\"otobüsün kapasitesi {self.kapasite}\")"
   ]
  },
  {
   "cell_type": "markdown",
   "metadata": {
    "id": "TzTHWO2zv4VB"
   },
   "source": [
    "# Problem 2\n",
    "\n",
    "\n",
    "School_bus'ın aynı zamanda Vehicle sınıfının bir örneği olup olmadığını belirleyiniz."
   ]
  },
  {
   "cell_type": "code",
   "execution_count": null,
   "metadata": {
    "id": "bTc9IfRfv4VG"
   },
   "outputs": [],
   "source": [
    "# 2.Problemin Çözümünü Buraya Yazınız"
   ]
  },
  {
   "cell_type": "code",
   "execution_count": 8,
   "metadata": {},
   "outputs": [],
   "source": [
    "menu = {\n",
    "    \"1\": {\"ad\": \"Espresso\", \"fiyat\": 25},\n",
    "    \"2\": {\"ad\": \"Latte\", \"fiyat\": 30},\n",
    "    \"3\": {\"ad\": \"Cappuccino\", \"fiyat\": 28}\n",
    "}\n",
    "stok = {\n",
    "    \"su\": 500,       # mililitre (ml)\n",
    "    \"süt\": 300,\n",
    "    \"kahve\": 200\n",
    "}\n",
    "def menuyu_goster():\n",
    "    print(\"\\n--- KAHVE OTOMATI MENÜSÜ ---\")\n",
    "    for secim, bilgi in menu.items():\n",
    "        print(f\"{secim}. {bilgi['ad']} - {bilgi['fiyat']}₺\")\n"
   ]
  }
 ],
 "metadata": {
  "colab": {
   "provenance": []
  },
  "kernelspec": {
   "display_name": "Python 3",
   "language": "python",
   "name": "python3"
  },
  "language_info": {
   "codemirror_mode": {
    "name": "ipython",
    "version": 3
   },
   "file_extension": ".py",
   "mimetype": "text/x-python",
   "name": "python",
   "nbconvert_exporter": "python",
   "pygments_lexer": "ipython3",
   "version": "3.13.2"
  },
  "orig_nbformat": 4,
  "vscode": {
   "interpreter": {
    "hash": "5026d2d6e7aaaaba093def813beadff083d8733e4a511af01735cbabd156995d"
   }
  }
 },
 "nbformat": 4,
 "nbformat_minor": 0
}
