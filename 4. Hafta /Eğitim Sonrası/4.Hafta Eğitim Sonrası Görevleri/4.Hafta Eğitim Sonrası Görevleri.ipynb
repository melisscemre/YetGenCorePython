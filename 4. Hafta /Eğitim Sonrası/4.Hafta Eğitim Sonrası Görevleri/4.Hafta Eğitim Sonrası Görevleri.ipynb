{
 "cells": [
  {
   "cell_type": "markdown",
   "metadata": {},
   "source": [
    "# Problem 1\n",
    "`ogrenciler` adında bir sözlük oluşturunuz. Kullanıcıdan döngü yardımıyla 3 öğrenci için veri girmesini isteyerek öğrencilerin sırasıyla okul numarası, isim, soy isim, telefon numarası ve doğum tarihi bilgilerini alınız. Aldığınız öğrenci bilgilerini yine aynı döngü yardımıyla `ogrenciler` adındaki sözlükte saklayınız. Daha sonra öğrenci bilgilerinin bulunduğu sözlük yapısını ekrana bastırınız.\n",
    "\n"
   ]
  },
  {
   "cell_type": "code",
   "execution_count": 45,
   "metadata": {},
   "outputs": [
    {
     "ename": "IndentationError",
     "evalue": "unindent does not match any outer indentation level (<string>, line 17)",
     "output_type": "error",
     "traceback": [
      "\u001b[0;36m  File \u001b[0;32m<string>:17\u001b[0;36m\u001b[0m\n\u001b[0;31m    for i in ogrenciler[i]:\u001b[0m\n\u001b[0m                           ^\u001b[0m\n\u001b[0;31mIndentationError\u001b[0m\u001b[0;31m:\u001b[0m unindent does not match any outer indentation level\n"
     ]
    }
   ],
   "source": [
    "# Boş bir sözlük oluşturalım\n",
    "ogrenciler = {}\n",
    "\n",
    "# 3 öğrenci için döngü oluşturalım\n",
    "for i in range(3):\n",
    "    print(f\"{i+1}. Öğrenci bilgilerini giriniz:\")\n",
    "    \n",
    "    # Öğrenci bilgilerini alalım\n",
    "    okulNumarasi = input(\"Okul numarası: \")\n",
    "    isim = input(\"İsim: \")\n",
    "    soyisim = input(\"Soyisim: \")\n",
    "    telefon = input(\"Telefon numarası: \")\n",
    "    dogum_tarihi = input(\"Doğum tarihi: \")\n",
    "    \n",
    "    # Sözlüğe öğrenci bilgilerini ekleyelim\n",
    "    # Okul numarasını anahtar olarak kullanıp, diğer bilgileri içeren bir sözlük oluşturalım\n",
    "   for i in ogrenciler[i]:\n",
    "        \"isim\" : isim,\n",
    "        \"soyisim\" :soyisim,\n",
    "        \"telefon\" : telefon,\n",
    "        \"dogum_tarihi\" : dogum_tarihi\n",
    "    \n",
    "    print(f\"{i+1}. öğrenci kaydedildi.\\n\")\n",
    "\n",
    "# Tüm öğrenci bilgilerini ekrana bastıralım\n",
    "print(\"\\nÖğrenci Bilgileri:\")\n",
    "\n",
    "for okulNumarasi in ogrenciler:\n",
    "    bilgiler= ogrenciler[okulNumarasi]\n",
    "    print(f\"Okul No: {okulNumarasi}\")\n",
    "    print(f\"İsim: {bilgiler[\"isim\"]}\")  #bilgiler atamasındaki belirtilen sözlükteki \"isim\" anahtarının değerini verir !!!1\n",
    "    print(f\"Soyisim: {bilgiler[\"soyisim\"]}\")\n",
    "    print(f\"Telefon: {bilgiler[\"telefon\"]}\")\n",
    "    print(f\"Doğum Tarihi: {bilgiler[\"dogum_tarihi\"]}\")\n",
    "    print(\"-\" * 50)\n",
    "\n"
   ]
  },
  {
   "cell_type": "markdown",
   "metadata": {},
   "source": [
    "# Problem 2\n",
    "\n",
    "### a - Biraz ısınarak başlayalım!\n",
    "\n",
    "```\n",
    "numbers = [5,10,10,15,15,15,20,20,20,20]\n",
    "```\n",
    "\n",
    "Yukarıda `numbers` adında 10 elemanlı bir liste verilmiştir. Bu listenin her elemanını kontrol eden ve tekrar eden elemanları bir kez olacak şekilde başka bir listeye kopyalayan bir program yazınız. Son olarak oluşturduğunuz listeyi ekrana bastırınız.\n",
    "\n",
    "\n",
    "\n",
    "\n",
    "```\n",
    ">Output\n",
    "[5, 10, 15, 20]\n",
    "```\n"
   ]
  },
  {
   "cell_type": "code",
   "execution_count": 31,
   "metadata": {},
   "outputs": [
    {
     "name": "stdout",
     "output_type": "stream",
     "text": [
      "{10, 20, 5, 15}\n"
     ]
    }
   ],
   "source": [
    "numbers= [5,10,10,15,15,15,20,20,20,20]\n",
    "\n",
    "uniqueNumbers= set(numbers)\n",
    "print(uniqueNumbers)      ## nasıl sıralı dizerim sayıları?"
   ]
  },
  {
   "cell_type": "markdown",
   "metadata": {},
   "source": [
    "### 🌶️ b) Hadi işi biraz daha zorlaştıralım! \n",
    "\n",
    "\n",
    "Şimdiyse senden `numbers` isimli listedeki tekrar eden elemanları `repeatNumbers` adındaki listeye; tekrar etmeyen elemanları `uniqueNumbers`adındaki listeye kopyalayan yazmanı ve listeleri ekrana bastırmanı bekliyoruz\n",
    "\n",
    "```\n",
    ">Output\n",
    "Tekrar Eden Elemanlar: [10, 10, 15, 15, 15, 20, 20, 20, 20]\n",
    "Tekrar Etmeyen Elemanlar: [5]\n",
    "```"
   ]
  },
  {
   "cell_type": "code",
   "execution_count": null,
   "metadata": {},
   "outputs": [],
   "source": [
    "repeatNumbers= ?"
   ]
  },
  {
   "cell_type": "markdown",
   "metadata": {},
   "source": [
    "# Problem 3\n",
    "sn1 = {1,2,3,4,5}\n",
    "\n",
    "sn2 = {4,5,6,7,8}\n",
    "\n",
    " Verilen 2 adet küme için kesişimlerini, farklarını ve birleşimlerini bulunuz. "
   ]
  },
  {
   "cell_type": "code",
   "execution_count": null,
   "metadata": {},
   "outputs": [
    {
     "data": {
      "text/plain": [
       "{4, 5}"
      ]
     },
     "execution_count": 38,
     "metadata": {},
     "output_type": "execute_result"
    }
   ],
   "source": [
    "sn1 = {1,2,3,4,5}\n",
    "sn2 = {4,5,6,7,8}\n",
    "\n",
    "sn1.intersection(sn2) \n"
   ]
  },
  {
   "cell_type": "code",
   "execution_count": null,
   "metadata": {},
   "outputs": [
    {
     "data": {
      "text/plain": [
       "{6, 7, 8}"
      ]
     },
     "execution_count": 39,
     "metadata": {},
     "output_type": "execute_result"
    }
   ],
   "source": [
    "sn2.difference(sn1)"
   ]
  },
  {
   "cell_type": "markdown",
   "metadata": {},
   "source": [
    "# Problem 4\n",
    "\n",
    "Buradaki işlemlerimizin tamamı stringler içindir. Aşağıda verilecek olan metodlar için kendinizin örnek yaratması gerekmektedir. \n",
    "\n",
    "Örneğin `upper` için `string` değişkeni oluştururken` k = \"BAC\"` şeklinde oluşturmayınız. Bunun yerine k değişkenini `k = \"bac`\" şeklinde oluşturmanız `upper` metodundaki değişimi görebilmeniz için daha iyi olacaktır.\n",
    "\n",
    "Bütün metodlardaki değişimin gözle görülür şekilde değişimi beklenmektedir.\n",
    "\n",
    "\n",
    "1- capitalize(), lower(), upper(), swapcase(), title(), replace()\n",
    "\n",
    "2- endswith(), startswith(), find(), index(), count()\n",
    "\n",
    "3- split(), strip(), join(), islower(), isalpha(), isdigit()\n",
    "\n",
    "\n",
    "Yukarıdaki `string` metodlarındaki değişimleri görebildiğimiz bir program yazınız.\n"
   ]
  },
  {
   "cell_type": "code",
   "execution_count": 1,
   "metadata": {},
   "outputs": [
    {
     "name": "stdout",
     "output_type": "stream",
     "text": [
      "🔹 1- Dönüştürücü Metotlar:\n",
      "\n",
      "Orijinal: merHaba dünYa\n",
      "capitalize(): Merhaba dünya\n",
      "lower(): merhaba dünya\n",
      "upper(): MERHABA DÜNYA\n",
      "swapcase(): MERhABA DÜNyA\n",
      "title(): Merhaba Dünya\n",
      "replace('a', '@'): merH@b@ dünY@\n",
      "\n",
      "----------------------------------------\n",
      "\n",
      "🔹 2- Kontrol ve Arama Metotları:\n",
      "\n",
      "Orijinal: python öğrenmek çok eğlenceli\n",
      "endswith('li'): True\n",
      "startswith('python'): True\n",
      "find('öğren'): 7\n",
      "index('ç'): 16\n",
      "count('e'): 5\n",
      "\n",
      "----------------------------------------\n",
      "\n",
      "🔹 3- Parçalama ve Test Metotları:\n",
      "\n",
      "Orijinal: '  istanbul,ankara,izmir  '\n",
      "split(','): ['  istanbul', 'ankara', 'izmir  ']\n",
      "strip(): 'istanbul,ankara,izmir'\n",
      "' - '.join(['elma', 'armut', 'muz']): elma - armut - muz\n",
      "'abc'.islower(): True\n",
      "'abcDEF'.isalpha(): True\n",
      "'12345'.isdigit(): True\n",
      "\n",
      "Program başarıyla tamamlandı ✅\n"
     ]
    }
   ],
   "source": [
    "# 1. Grup: Dönüştürücü Metotlar\n",
    "print(\"🔹 1- Dönüştürücü Metotlar:\\n\")\n",
    "\n",
    "k1 = \"merHaba dünYa\"\n",
    "print(f\"Orijinal: {k1}\")\n",
    "print(f\"capitalize(): {k1.capitalize()}\")  # İlk harf büyük, diğerleri küçük\n",
    "print(f\"lower(): {k1.lower()}\")            # Tüm harfler küçük\n",
    "print(f\"upper(): {k1.upper()}\")            # Tüm harfler büyük\n",
    "print(f\"swapcase(): {k1.swapcase()}\")      # Büyük-küçük yer değiştirir\n",
    "print(f\"title(): {k1.title()}\")            # Her kelimenin ilk harfi büyük\n",
    "print(f\"replace('a', '@'): {k1.replace('a', '@')}\")  # a yerine @ koy\n",
    "\n",
    "print(\"\\n\" + \"-\"*40 + \"\\n\")\n",
    "\n",
    "# 2. Grup: Kontrol ve Arama Metotları\n",
    "print(\"🔹 2- Kontrol ve Arama Metotları:\\n\")\n",
    "\n",
    "k2 = \"python öğrenmek çok eğlenceli\"\n",
    "print(f\"Orijinal: {k2}\")\n",
    "print(f\"endswith('li'): {k2.endswith('li')}\")        # 'li' ile bitiyor mu\n",
    "print(f\"startswith('python'): {k2.startswith('python')}\")  # 'python' ile başlıyor mu\n",
    "print(f\"find('öğren'): {k2.find('öğren')}\")          # 'öğren' nerede başlıyor\n",
    "print(f\"index('ç'): {k2.index('ç')}\")                # 'ç' harfi kaçıncı sırada\n",
    "print(f\"count('e'): {k2.count('e')}\")                # 'e' kaç kere geçmiş\n",
    "\n",
    "print(\"\\n\" + \"-\"*40 + \"\\n\")\n",
    "\n",
    "# 3. Grup: Parçalama ve Test Metotları\n",
    "print(\"🔹 3- Parçalama ve Test Metotları:\\n\")\n",
    "\n",
    "k3 = \"  istanbul,ankara,izmir  \"\n",
    "print(f\"Orijinal: '{k3}'\")\n",
    "print(f\"split(','): {k3.split(',')}\")               # Virgülden parçala\n",
    "print(f\"strip(): '{k3.strip()}'\")                   # Baş/son boşlukları sil\n",
    "print(f\"' - '.join(['elma', 'armut', 'muz']): {' - '.join(['elma', 'armut', 'muz'])}\")  # Listeyi birleştir\n",
    "print(f\"'abc'.islower(): {'abc'.islower()}\")         # Hepsi küçük mü?\n",
    "print(f\"'abcDEF'.isalpha(): {'abcDEF'.isalpha()}\")   # Hepsi harf mi?\n",
    "print(f\"'12345'.isdigit(): {'12345'.isdigit()}\")     # Hepsi rakam mı?\n",
    "\n",
    "print(\"\\nProgram başarıyla tamamlandı ✅\")\n",
    "\n"
   ]
  }
 ],
 "metadata": {
  "kernelspec": {
   "display_name": "Python 3",
   "language": "python",
   "name": "python3"
  },
  "language_info": {
   "codemirror_mode": {
    "name": "ipython",
    "version": 3
   },
   "file_extension": ".py",
   "mimetype": "text/x-python",
   "name": "python",
   "nbconvert_exporter": "python",
   "pygments_lexer": "ipython3",
   "version": "3.13.2"
  },
  "orig_nbformat": 4
 },
 "nbformat": 4,
 "nbformat_minor": 2
}
