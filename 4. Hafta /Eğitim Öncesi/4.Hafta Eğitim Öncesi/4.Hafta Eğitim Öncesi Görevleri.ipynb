{
 "cells": [
  {
   "cell_type": "markdown",
   "metadata": {
    "id": "-My6RWLrhXIq"
   },
   "source": [
    "# Problem 1\n",
    "Sözlükleri kullanarak bir telefon rehberi yazın. Bu rehberde kullanıcıya kimin telefonunu görüntülemek istediğini sorun ve kullanıcının girdiği isme göre o kişinin telefon numarasını yazdırın. Proje sonunda elde edeceğiniz çıktı  şuna benzer olmalı:\n",
    "\n",
    "\n",
    "Lütfen numarasını öğrenmek istediğiniz kişinin adını girin: Ahmet\n",
    "\n",
    "Ahmet isimli kişinin numarası şu şekildedir: 0532 678 13 19"
   ]
  },
  {
   "cell_type": "code",
   "execution_count": 9,
   "metadata": {
    "id": "LHIQEhchhXIu"
   },
   "outputs": [
    {
     "name": "stdout",
     "output_type": "stream",
     "text": [
      "Ayşe isimli kişinin numarası şu şekildedir: 0501 987 65 43\n"
     ]
    }
   ],
   "source": [
    "telefon_rehberi = {\n",
    "    \"Ahmet\": \"0532 678 13 19\",\n",
    "    \"Mehmet\": \"0543 123 45 67\",\n",
    "    \"Ayşe\": \"0501 987 65 43\",\n",
    "    \"Fatma\": \"0555 555 55 55\"\n",
    "}\n",
    "\n",
    "isim = input(\"Lütfen numarasını öğrenmek istediğiniz kişinin adını girin: \")\n",
    "\n",
    "if isim in telefon_rehberi:\n",
    "    print(f\"{isim} isimli kişinin numarası şu şekildedir: {telefon_rehberi[isim]}\")\n",
    "else:\n",
    "    print(\"Üzgünüz, aradığınız kişi rehberde bulunmamaktadır.\")\n"
   ]
  },
  {
   "cell_type": "markdown",
   "metadata": {
    "id": "rlgfjEi7hXIv"
   },
   "source": [
    "# Problem 2\n",
    "Sözlükleri kullanarak bir şirket çalışanları indeksi oluşturun. Bu isim indeksinde kişilerin isimleri key, kişilerin  memleket, yaş ve görev bilgileri value olmalıdır. Burada kullanacağımız value değerleri liste olmalıdır.\n",
    "\n",
    "\n",
    "Daha sonra bir isim sorgulama ekranı gibi kullanıcıya kimin bilgilerini görüntülemek istediğini \n",
    "sorun ve sorgulanan kişinin ekranda gösterilmesini sağlayın. Proje sonunda elde edeceğiniz çıktı şu şekilde olmalı:\n",
    "\n",
    "\n",
    "Lütfen bilgilerini görüntülemek istediğiniz çalışanın ismini girin: Mehmet Yağız\n",
    "\n",
    "Mehmet Yağız= Memleket: Adana Yaş: 40 Görev: Direktör"
   ]
  },
  {
   "cell_type": "code",
   "execution_count": null,
   "metadata": {
    "id": "O09zrrs0hXIv"
   },
   "outputs": [
    {
     "name": "stdout",
     "output_type": "stream",
     "text": [
      "Ahmet Kaya = Memleket: İstanbul Yaş: 35 Görev: Mühendis\n"
     ]
    }
   ],
   "source": [
    "calisanlar_indeksi = {\n",
    "    \"Ahmet Kaya\": [\"İstanbul\", 35, \"Mühendis\"],\n",
    "    \"Mehmet Yağız\": [\"Adana\", 40, \"Direktör\"],\n",
    "    \"Ayşe Demir\": [\"Ankara\", 29, \"Muhasebeci\"],\n",
    "    \"Fatma Yılmaz\": [\"İzmir\", 33, \"Pazarlama Müdürü\"]\n",
    "}\n",
    "\n",
    "isim = input(\"Lütfen bilgilerini görüntülemek istediğiniz çalışanın ismini girin: \")\n",
    "\n",
    "if isim in calisanlar_indeksi:\n",
    "    memleket, yas, gorev = calisanlar_indeksi[isim]   #atama sırasına göre sözlükten verileri çeker indeks gibi düşün!!\n",
    "    print(f\"{isim} = Memleket: {memleket} Yaş: {yas} Görev: {gorev}\")\n",
    "else:\n",
    "    print(\"Üzgünüz, aradığınız çalışan indekste bulunmamaktadır.\")\n"
   ]
  },
  {
   "cell_type": "markdown",
   "metadata": {
    "id": "G67ztXG-hXIw"
   },
   "source": [
    "# Problem 3\n",
    "\n",
    "3 öğrenciden oluşan bir öğrenci not sözlüğü oluşturun. Bu sözlükte öğrencilerin notları value olarak bir listede toplansın.\n",
    "\n",
    "Kullanıcıya hangi öğrencinin notlarını görmek istediğini sorun. Öğrencinin notu görüntülendiğinde program sonunda şöyle bir çıktı elde etmelisiniz:\n",
    "\n",
    "```\n",
    "Lütfen notlarını görmek istediğiniz öğrencinin adını girin: Mehmet\n",
    "\n",
    "Mehmet isimli öğrencinin      1.Sınav Notu:72\n",
    "                              2.Sınav Notu:66\n",
    "                              3.Sınav Notu:48\n",
    "Not Ortalaması: 62.0\n"
   ]
  },
  {
   "cell_type": "code",
   "execution_count": 14,
   "metadata": {
    "id": "TXQ_fuCHhXIw"
   },
   "outputs": [
    {
     "name": "stdout",
     "output_type": "stream",
     "text": [
      "Mehmet isimli öğrencinin\n",
      "1. Sınav Notu: 72\n",
      "2. Sınav Notu: 66\n",
      "3. Sınav Notu: 48\n",
      "Not Ortalaması: 62.0\n"
     ]
    }
   ],
   "source": [
    "ogrenci_notlari = {\n",
    "    \"Ahmet\": [85, 90, 78],\n",
    "    \"Mehmet\": [72, 66, 48],\n",
    "    \"Ayşe\": [95, 88, 92]\n",
    "}\n",
    "\n",
    "isim = input(\"Lütfen notlarını görmek istediğiniz öğrencinin adını girin: \")\n",
    "\n",
    "if isim in ogrenci_notlari:\n",
    "    notlar = ogrenci_notlari[isim]\n",
    "    print(f\"{isim} isimli öğrencinin\")\n",
    "    print(f\"1. Sınav Notu: {notlar[0]}\")\n",
    "    print(f\"2. Sınav Notu: {notlar[1]}\")\n",
    "    print(f\"3. Sınav Notu: {notlar[2]}\")\n",
    "    \n",
    "    ortalama = sum(notlar) / len(notlar)\n",
    "    print(f\"Not Ortalaması: {ortalama:.1f}\")\n",
    "else:\n",
    "    print(\"Üzgünüz, aradığınız öğrenci bulunmamaktadır.\")"
   ]
  },
  {
   "cell_type": "markdown",
   "metadata": {
    "id": "oel6A5WFhXIw"
   },
   "source": [
    "# Problem 4"
   ]
  },
  {
   "cell_type": "code",
   "execution_count": null,
   "metadata": {
    "id": "jVRdspCrhXIx"
   },
   "outputs": [],
   "source": [
    "# 1-  \"Bmw, Mercedes, Opel, Mazda\" elemanlarına sahip bir liste oluşturunuz.\n",
    "\n",
    "# 2-  Liste Kaç elemanlıdır ?\n",
    "\n",
    "# 3-  Listenin ilk ve son elemanı nedir ?\n",
    "\n",
    "# 4-  Mazda değerini Toyota ile değiştirin.\n",
    "\n",
    "# 5-  Listenin -2 indeksindeki değer nedir ?\n",
    "\n",
    "# 6-  Listenin ilk 3 elemanını alın.\n",
    "\n",
    "# 7-  Listenin son 2 elemanı yerine \"Toyota\" ve \"Renault\" değerlerini ekleyin.\n",
    "\n",
    "# 8-  Listenin üzerine \"Audi\" ve \"Nissan\" değerlerini ekleyin.\n",
    "\n",
    "# 9- Listenin son elemanını silin.\n",
    "\n",
    "# 10- Liste elemanlarını tersten yazdırınız.\n",
    "\n",
    "# 11- Aşağıdaki verileri bir liste içinde saklayınız. \n",
    "\n",
    "      # studentA: Yiğit Bilgi 2010, (70,60,70)\n",
    "      # studentB: Sena Turan  1999, (80,80,70)\n",
    "      # studentC: Ahmet Turan 1998, (80,70,90) \n",
    "\n",
    "\n",
    "\n",
    "# 12- Liste elemanlarını ekrana yazdırınız.\n",
    "\n",
    "\n",
    "\n",
    "# 13-  \"Cenk\" ismini listenin sonuna ekleyiniz.\n",
    "\n",
    "\n",
    "# 14-  \"Sena\" değerini listenin başına ekleyiniz.\n",
    "\n",
    "\n",
    "# 15-  \"Deniz\" ismini listeden siliniz.\n",
    "\n",
    "\n",
    "# 16-  \"Ali\" listenin bir elemanı mıdır ?\n",
    "\n",
    "# 17-  Liste elemanlarını ters çevirin.\n",
    "\n",
    "# 18-  Liste elemanlarını alfabetik olarak sıralayınız.\n",
    "\n",
    "\n",
    "# 19-  years listesini rakamsal büyüklüğe göre sıralayınız.\n",
    "\n",
    "# 20-  str = \"Chevrolet,Dacia\" karakter dizisini listeye çeviriniz.\n",
    "\n",
    "\n",
    "# 21- years dizisinde kaç tane 1998 değeri vardır ?\n",
    "\n",
    "\n",
    "# 22- years dizisinin tüm elemanlarını siliniz.\n",
    "\n",
    "\n",
    "# 23- Kullanıcıdan alacağınız 3 tane marka bilgisini bir listede saklayınız.\n",
    "\n"
   ]
  },
  {
   "cell_type": "code",
   "execution_count": null,
   "metadata": {},
   "outputs": [],
   "source": [
    "# 1\n",
    "arabalar = [\"Bmw\", \"Mercedes\", \"Opel\", \"Mazda\"]\n",
    "\n",
    "# 2\n",
    "print(f\"2- Liste eleman sayısı: {len(arabalar)}\")\n",
    "\n",
    "# 3\n",
    "print(f\"3- İlk eleman: {arabalar[0]}, Son eleman: {arabalar[-1]}\")\n",
    "\n",
    "# 4\n",
    "arabalar[-1] = \"Toyota\"\n",
    "print(f\"4- Güncel liste: {arabalar}\")\n",
    "\n",
    "# 5\n",
    "print(f\"5- -2 indeksindeki değer: {arabalar[-2]}\")\n",
    "\n",
    "# 6\n",
    "print(f\"6- İlk 3 eleman: {arabalar[:3]}\")\n",
    "\n",
    "# 7\n",
    "arabalar[-2:] = [\"Toyota\", \"Renault\"]\n",
    "print(f\"7- Yeni liste: {arabalar}\")\n",
    "\n",
    "# 8\n",
    "arabalar += [\"Audi\", \"Nissan\"]\n",
    "print(f\"8- Listeye ekleme: {arabalar}\")\n",
    "\n",
    "# 9\n",
    "arabalar.pop()\n",
    "print(f\"9- Son eleman silindi: {arabalar}\")\n",
    "\n",
    "# 10\n",
    "print(f\"10- Liste tersten: {arabalar[::-1]}\")\n",
    "\n",
    "# 11\n",
    "studentA = [\"Yiğit\", \"Bilgi\", 2010, [70, 60, 70]]\n",
    "studentB = [\"Sena\", \"Turan\", 1999, [80, 80, 70]]\n",
    "studentC = [\"Ahmet\", \"Turan\", 1998, [80, 70, 90]]\n",
    "students = [studentA, studentB, studentC]\n",
    "\n",
    "# 12\n",
    "print(\"12- Öğrenciler listesi:\")\n",
    "for student in students:\n",
    "    print(student)\n",
    "\n",
    "# 13\n",
    "isimler = [\"Ali\", \"Veli\", \"Deniz\"]\n",
    "isimler.append(\"Cenk\")\n",
    "print(f\"13- 'Cenk' eklendi: {isimler}\")\n",
    "\n",
    "# 14\n",
    "isimler.insert(0, \"Sena\")\n",
    "print(f\"14- 'Sena' başa eklendi: {isimler}\")\n",
    "\n",
    "# 15\n",
    "isimler.remove(\"Deniz\")\n",
    "print(f\"15- 'Deniz' silindi: {isimler}\")\n",
    "\n",
    "# 16\n",
    "print(f\"16- 'Ali' listede mi?: {'Ali' in isimler}\")\n",
    "\n",
    "# 17\n",
    "isimler.reverse()\n",
    "print(f\"17- Ters çevrilmiş liste: {isimler}\")\n",
    "\n",
    "# 18\n",
    "isimler.sort()\n",
    "print(f\"18- Alfabetik sıralama: {isimler}\")\n",
    "\n",
    "# 19\n",
    "years = [1998, 2001, 1998, 2005, 2008]\n",
    "years.sort()\n",
    "print(f\"19- Yıllar sıralı: {years}\")\n",
    "\n",
    "# 20\n",
    "str_arabalar = \"Chevrolet,Dacia\"\n",
    "yeni_liste = str_arabalar.split(\",\")\n",
    "print(f\"20- Listeye çevrilen string: {yeni_liste}\")\n",
    "\n",
    "# 21\n",
    "print(f\"21- 1998 yılı sayısı: {years.count(1998)}\")\n",
    "\n",
    "# 22\n",
    "years.clear()\n",
    "print(f\"22- Yıllar dizisi temizlendi: {years}\")\n",
    "\n",
    "# 23\n",
    "markalar = []\n",
    "for i in range(3):\n",
    "    marka = input(f\"{i+1}. markayı girin: \")\n",
    "    markalar.append(marka)\n",
    "print(f\"23- Girilen markalar: {markalar}\")\n"
   ]
  }
 ],
 "metadata": {
  "colab": {
   "provenance": []
  },
  "kernelspec": {
   "display_name": "Python 3",
   "language": "python",
   "name": "python3"
  },
  "language_info": {
   "codemirror_mode": {
    "name": "ipython",
    "version": 3
   },
   "file_extension": ".py",
   "mimetype": "text/x-python",
   "name": "python",
   "nbconvert_exporter": "python",
   "pygments_lexer": "ipython3",
   "version": "3.13.2"
  },
  "orig_nbformat": 4
 },
 "nbformat": 4,
 "nbformat_minor": 0
}
