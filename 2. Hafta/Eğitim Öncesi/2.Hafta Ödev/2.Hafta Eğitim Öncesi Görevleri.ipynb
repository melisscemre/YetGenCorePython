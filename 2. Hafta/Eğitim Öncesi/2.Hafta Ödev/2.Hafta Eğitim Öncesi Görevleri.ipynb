{
 "cells": [
  {
   "cell_type": "markdown",
   "metadata": {
    "id": "tn8GZg8pTGFf"
   },
   "source": [
    "### Soru 1 \n",
    "Yazılımcıların bir dili öğrenmeye başladığında ilk yapacakları şey ekrana \"Hello World\" yazdırmaktır. Python'da da aynı şeyi yapalım.Bir yazılımcı aşağıdaki kodu yazarken hata yapıyor. Bunu düzelterek çalışan bir kod yazalım.\n"
   ]
  },
  {
   "cell_type": "code",
   "execution_count": null,
   "metadata": {
    "id": "bt_InlLMTGGF"
   },
   "outputs": [],
   "source": [
    "print Hello World"
   ]
  },
  {
   "cell_type": "code",
   "execution_count": null,
   "metadata": {},
   "outputs": [
    {
     "name": "stdout",
     "output_type": "stream",
     "text": [
      "Hello World\n"
     ]
    }
   ],
   "source": [
    "print(\"Hello World\")"
   ]
  },
  {
   "cell_type": "markdown",
   "metadata": {
    "id": "t9Rh_pt2TGGL"
   },
   "source": [
    "### Soru 2\n",
    "İki YetGen'li zirvede karşılaşıyor. Zirvede birbirleriyle Python standında konuşurken YetGen Jump Python renginin ne olduğunu konuşurken bir YetGen lideri **logo** değişkenine atayıp ekrana bastırmalarını istiyor. Onlara bu noktada yardımcı olur musun?"
   ]
  },
  {
   "cell_type": "code",
   "execution_count": null,
   "metadata": {
    "id": "RI1LXAWhTGGO"
   },
   "outputs": [
    {
     "name": "stdout",
     "output_type": "stream",
     "text": [
      "Yetgen Jump Python:  kırmızı\n"
     ]
    }
   ],
   "source": [
    "logo= input(\"logo rengini giriniz: \")\n",
    "print(\"Yetgen Jump Python: \", logo)"
   ]
  },
  {
   "cell_type": "markdown",
   "metadata": {
    "id": "g0lXs2PTTGGR"
   },
   "source": [
    "### Soru 3\n",
    "Dairenin alanını hesaplayan bir Python kodu yazınız. pi sayısını 3.14 olarak alınız ve yarıçapını kullanıcıdan alınız. Sonucu ekrana bastırınız."
   ]
  },
  {
   "cell_type": "code",
   "execution_count": 4,
   "metadata": {},
   "outputs": [
    {
     "name": "stdout",
     "output_type": "stream",
     "text": [
      "113.04\n"
     ]
    }
   ],
   "source": [
    "pi=3.14\n",
    "yaricap= float(input(\"dairenin yarıçapını giriniz: \"))\n",
    "print((yaricap**2)*pi) "
   ]
  },
  {
   "cell_type": "markdown",
   "metadata": {},
   "source": [
    "### Soru 4\n",
    "x ve y adında iki liste oluşturunuz. Bu listeleri birbiryle yer değiştirerek yazdırınız.\n",
    "\n",
    "```python\n",
    "x = [1,2,3,4,5]\n",
    "y = [5,4,3,2,1]\n",
    "``` \n",
    "\n",
    "```python\t\n",
    "Output:\n",
    "x = [5, 4, 3, 2, 1]\n",
    "y = [1, 2, 3, 4, 5]\n",
    "```"
   ]
  },
  {
   "cell_type": "code",
   "execution_count": null,
   "metadata": {},
   "outputs": [
    {
     "name": "stdout",
     "output_type": "stream",
     "text": [
      "x=  [5, 4, 3, 2, 1]\n",
      "y=  [5, 4, 3, 2, 1]\n"
     ]
    }
   ],
   "source": [
    "x = [1, 2, 3, 4, 5]\n",
    "y = [5, 4, 3, 2, 1]\n",
    "x= y                           #tınak içinde yazılan string yani direkt yazı olarak çıktı verir.\n",
    "y= x                           #tırnaksız yazılınca ise değişken olarak algılanır ve tanımlanan değişken alınır.\n",
    "print(\"x= \", x)\n",
    "print(\"y= \", y)\n"
   ]
  },
  {
   "cell_type": "code",
   "execution_count": 9,
   "metadata": {
    "id": "aAgU4SaSTGGb"
   },
   "outputs": [
    {
     "data": {
      "text/plain": [
       "4"
      ]
     },
     "execution_count": 9,
     "metadata": {},
     "output_type": "execute_result"
    }
   ],
   "source": [
    "5 - 3 // 2"
   ]
  },
  {
   "cell_type": "code",
   "execution_count": 10,
   "metadata": {},
   "outputs": [
    {
     "name": "stdout",
     "output_type": "stream",
     "text": [
      "1\n"
     ]
    }
   ],
   "source": [
    "islem= 5-8//2\n",
    "print(islem)"
   ]
  },
  {
   "cell_type": "markdown",
   "metadata": {
    "id": "kRHlU52YTGGe"
   },
   "source": [
    "### Soru 6\n",
    "Aşağıdaki kod satırının sonuncusunu 0 olacak şekilde düzenleyiniz."
   ]
  },
  {
   "cell_type": "code",
   "execution_count": 6,
   "metadata": {
    "id": "SQfEo_XTTGGg"
   },
   "outputs": [
    {
     "data": {
      "text/plain": [
       "2"
      ]
     },
     "execution_count": 6,
     "metadata": {},
     "output_type": "execute_result"
    }
   ],
   "source": [
    "8 - 3 * 2 - 1 + 1"
   ]
  },
  {
   "cell_type": "code",
   "execution_count": 8,
   "metadata": {},
   "outputs": [
    {
     "name": "stdout",
     "output_type": "stream",
     "text": [
      "4\n"
     ]
    }
   ],
   "source": [
    "islem= 8 - (3*2) + 2 \n",
    "print(islem)"
   ]
  },
  {
   "cell_type": "markdown",
   "metadata": {
    "id": "tpixAZXyTGGi"
   },
   "source": [
    "### Soru 7\n",
    "YetGen liderlerinden Berkcan, Emirhan ve Eslem, Ramazan Bayramı'nda topladıkları şekerlerini bir araya getirmeyi ve kendi aralarında eşit olarak paylaşmayı kabul ettiler.\n",
    "Eşit paylaşım yapıldıktan sonra kalan şekerler parçalanacak. Örneğin, eğer toplamda 91 şekerleri varsa , her biri 30 tane alıp kalan 1 tane şekeri parçalayacaklar.\n",
    "Kaç tane şekeri parçalayacaklarını hesaplayan bir Python kodu yazınız."
   ]
  },
  {
   "cell_type": "code",
   "execution_count": 2,
   "metadata": {
    "id": "O75NG8MaTGGk"
   },
   "outputs": [
    {
     "data": {
      "text/plain": [
       "1"
      ]
     },
     "execution_count": 2,
     "metadata": {},
     "output_type": "execute_result"
    }
   ],
   "source": [
    "şekersayısı= 61\n",
    "61-(3*(61//3))\n",
    "\n",
    "\n"
   ]
  }
 ],
 "metadata": {
  "colab": {
   "provenance": []
  },
  "kernelspec": {
   "display_name": "Python 3",
   "language": "python",
   "name": "python3"
  },
  "language_info": {
   "codemirror_mode": {
    "name": "ipython",
    "version": 3
   },
   "file_extension": ".py",
   "mimetype": "text/x-python",
   "name": "python",
   "nbconvert_exporter": "python",
   "pygments_lexer": "ipython3",
   "version": "3.13.2"
  },
  "orig_nbformat": 4
 },
 "nbformat": 4,
 "nbformat_minor": 0
}
